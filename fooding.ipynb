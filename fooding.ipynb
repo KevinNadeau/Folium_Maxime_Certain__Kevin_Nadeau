{
 "metadata": {
  "language_info": {
   "codemirror_mode": {
    "name": "ipython",
    "version": 3
   },
   "file_extension": ".py",
   "mimetype": "text/x-python",
   "name": "python",
   "nbconvert_exporter": "python",
   "pygments_lexer": "ipython3",
   "version": "3.8.3-final"
  },
  "orig_nbformat": 2,
  "kernelspec": {
   "name": "python38364bitbaseconda86f59e4b2f5a4338817613562ddc8f5f",
   "display_name": "Python 3.8.3 64-bit ('base': conda)"
  }
 },
 "nbformat": 4,
 "nbformat_minor": 2,
 "cells": [
  {
   "cell_type": "code",
   "execution_count": 63,
   "metadata": {},
   "outputs": [],
   "source": [
    "# Rends nos tracés inline\n",
    "%matplotlib inline\n",
    "\n",
    "import pandas as pd\n",
    "import matplotlib.pyplot as plt\n",
    "\n",
    "# Enjolive les graphes\n",
    "plt.style.use('ggplot')\n",
    "plt.rcParams['figure.figsize'] = (15, 5)"
   ]
  },
  {
   "cell_type": "code",
   "execution_count": 64,
   "metadata": {
    "tags": []
   },
   "outputs": [
    {
     "output_type": "stream",
     "name": "stdout",
     "text": "https://lefooding.com/fr/search?type=restaurant&filters%5Bgeo%5D%5Bcity%5D%5B%5D=526ba3f07f55b7f39a007e28&page=1&sort=&per_page=10&total_pages=94 200\n"
    }
   ],
   "source": [
    "import requests\n",
    "url='https://lefooding.com/fr/search?type=restaurant&filters%5Bgeo%5D%5Bcity%5D%5B%5D=526ba3f07f55b7f39a007e28&page=1&sort=&per_page=10&total_pages=94'\n",
    "r = requests.get(url)\n",
    "print(url, r.status_code)\n"
   ]
  },
  {
   "cell_type": "code",
   "execution_count": 65,
   "metadata": {},
   "outputs": [],
   "source": [
    "dataf = r.json()"
   ]
  },
  {
   "cell_type": "markdown",
   "metadata": {},
   "source": [
    "Enregistre les donnees dans un fichier "
   ]
  },
  {
   "cell_type": "code",
   "execution_count": 66,
   "metadata": {},
   "outputs": [],
   "source": [
    "import json\n",
    "with open('data.json', 'w') as f: #écrit le json dans un fichier json\n",
    "    json.dump(dataf, f)"
   ]
  },
  {
   "cell_type": "code",
   "execution_count": 67,
   "metadata": {},
   "outputs": [
    {
     "output_type": "execute_result",
     "data": {
      "text/plain": "                         id        type               name  \\\n0  5db9cca342719ae4a3000240  Restaurant   Shinjuku Pigalle   \n1  5dc3b2a942719a7876000189  Restaurant            Basique   \n2  5c9129b242719a757f000413  Restaurant             Gramme   \n3  5cd999f442719a064f000095  Restaurant           Chinaski   \n4  5cd3049742719a93b40000e0  Restaurant          Sucrépice   \n5  5a26b1e342719a13ff000019  Restaurant               Così   \n6  5a26a5b142719aee3b000007  Restaurant  Kodawari Yokocho    \n7  5d64150142719a5c10000015  Restaurant            Cuisine   \n8  5d7b4d7942719a3c640000fb  Restaurant              Dumbo   \n9  5c1a922842719aac5500015e  Restaurant          Vermillon   \n\n                                             address           phone_num  \\\n0  {'_id': '5db9cca342719ae4a300023f', 'city': 'P...   +33 1 42 06 18 14   \n1  {'_id': '5dc3b2a942719a7876000187', 'city': 'P...   +33 1 40 24 20 48   \n2  {'_id': '5c9129b242719a757f000411', 'city': 'P...   +33 9 50 92 20 23   \n3  {'_id': '5cd999f442719a064f000093', 'city': 'P...   +33 1 73 74 74 06   \n4  {'_id': '5cd3049742719a93b40000de', 'city': 'P...   +33 1 72 67 11 74   \n5  {'_id': '5845940b42719a90f9000007', 'city': 'P...   +33 1 46 33 35 36   \n6  {'_id': '584580d542719ae1dd00002f', 'city': 'P...  + 33 9 70 91 12 41   \n7  {'_id': '5d64150042719a5c10000013', 'city': 'P...   +33 1 44 63 75 64   \n8  {'_id': '5d7b4d7942719a3c640000f9', 'city': 'P...  Pas de téléphone.    \n9  {'_id': '5c1a922842719aac5500015c', 'city': 'P...  + 33 1 42 41 49 68   \n\n  cellphone_num                                           cravings  \\\n0                                                       [Japonais]   \n1                                                          [Tapas]   \n2                [Café / Coffee Shop, Snack / Tartes / Salades ...   \n3                [Café / Coffee Shop, Cuisine d'auteur, Néobist...   \n4                                                        [Chinois]   \n5                               [Sandwichs / Bagels, Lèche-doigts]   \n6                                                       [Japonais]   \n7                         [Néobistrot, Bar à vins / Cave à manger]   \n8                                                        [Burgers]   \n9                                              [Cuisine du marché]   \n\n                                              extras            price  \\\n0                     [Antidépresseur, Manger seul ]   [De 16 à 35 €]   \n1                         [Antidépresseur, Terrasse]   [De 16 à 35 €]   \n2  [Ouvert le dimanche, Ouvert le lundi, Take-awa...  [Moins de 15 €]   \n3  [Ouvert le dimanche, Antidépresseur, Terrasse,...   [De 16 à 35 €]   \n4  [Ouvert le dimanche, Ouvert le lundi, Take-awa...  [Moins de 15 €]   \n5  [Ouvert le dimanche, Ouvert le lundi, Antidépr...  [Moins de 15 €]   \n6               [Ouvert le dimanche, Antidépresseur]   [De 16 à 35 €]   \n7                        [Ouvert le lundi, Terrasse]   [De 16 à 35 €]   \n8          [Take-away, Antidépresseur, Manger seul ]  [Moins de 15 €]   \n9                         [Antidépresseur, Terrasse]   [De 16 à 35 €]   \n\n  essentials                                                url  \\\n0         []  https://lefooding.com/fr/restaurants/restauran...   \n1         []  https://lefooding.com/fr/restaurants/restauran...   \n2         []  https://lefooding.com/fr/restaurants/restauran...   \n3  [Feeling]  https://lefooding.com/fr/restaurants/restauran...   \n4         []  https://lefooding.com/fr/restaurants/restauran...   \n5  [Feeling]  https://lefooding.com/fr/restaurants/restauran...   \n6         []  https://lefooding.com/fr/restaurants/restauran...   \n7  [Feeling]  https://lefooding.com/fr/restaurants/restauran...   \n8         []  https://lefooding.com/fr/restaurants/restauran...   \n9  [Feeling]  https://lefooding.com/fr/restaurants/restauran...   \n\n                                                tags  \\\n0  [{'category': 'Les plus', 'type': 'zeplus', 'n...   \n1  [{'category': 'Les plus', 'type': 'zeplus', 'n...   \n2  [{'category': 'Les plus', 'type': 'zeplus', 'n...   \n3  [{'category': 'Les plus', 'type': 'zeplus', 'n...   \n4  [{'category': 'Les plus', 'type': 'zeplus', 'n...   \n5  [{'category': 'Les plus', 'type': 'zeplus', 'n...   \n6  [{'category': 'Les plus', 'type': 'zeplus', 'n...   \n7  [{'category': 'Les plus', 'type': 'zeplus', 'n...   \n8  [{'category': 'Les plus', 'type': 'zeplus', 'n...   \n9  [{'category': 'Les plus', 'type': 'zeplus', 'n...   \n\n                                         sorted_tags  \\\n0  {'zeplus': ['Antidépresseur', 'Manger seul '],...   \n1  {'zeplus': ['Antidépresseur', 'Terrasse'], 'pr...   \n2  {'zeplus': ['Ouvert le dimanche', 'Ouvert le l...   \n3  {'zeplus': ['Ouvert le dimanche', 'Antidépress...   \n4  {'zeplus': ['Ouvert le dimanche', 'Ouvert le l...   \n5  {'zeplus': ['Ouvert le dimanche', 'Ouvert le l...   \n6  {'zeplus': ['Ouvert le dimanche', 'Antidépress...   \n7  {'zeplus': ['Ouvert le lundi', 'Terrasse'], 'e...   \n8  {'zeplus': ['Take-away', 'Antidépresseur', 'Ma...   \n9  {'zeplus': ['Antidépresseur', 'Terrasse'], 'es...   \n\n                    website                                          thumbnail  \n0                            /media/W1siZiIsIjIwMTkvMTAvMzAvMTlfMDVfMTVfNjQ...  \n1                            /media/W1siZiIsIjIwMTkvMTEvMDcvMDZfNTlfMDVfOTk...  \n2                            /media/W1siZiIsIjIwMTkvMDMvMTkvMThfNDFfMDZfNDU...  \n3     www.chinaskiparis.com  /media/W1siZiIsIjIwMTkvMDUvMTMvMThfMjNfMTZfNzM...  \n4          www.sucrepice.fr  /media/W1siZiIsIjIwMTkvMDUvMDgvMThfMzJfMjNfODY...  \n5                            /media/W1siZiIsIjIwMTYvMDYvMDIvMTBfNTBfNDhfNTc...  \n6        kodawari-ramen.com                                                     \n7  www.restaurantcuisine.fr  /media/W1siZiIsIjIwMTkvMDgvMjYvMTlfMjFfMDVfMjl...  \n8                            /media/W1siZiIsIjIwMTkvMDkvMTMvMTBfMDRfMDlfNjU...  \n9                            /media/W1siZiIsIjIwMTgvMTIvMjAvMTBfMjJfNDBfOTI...  ",
      "text/html": "<div>\n<style scoped>\n    .dataframe tbody tr th:only-of-type {\n        vertical-align: middle;\n    }\n\n    .dataframe tbody tr th {\n        vertical-align: top;\n    }\n\n    .dataframe thead th {\n        text-align: right;\n    }\n</style>\n<table border=\"1\" class=\"dataframe\">\n  <thead>\n    <tr style=\"text-align: right;\">\n      <th></th>\n      <th>id</th>\n      <th>type</th>\n      <th>name</th>\n      <th>address</th>\n      <th>phone_num</th>\n      <th>cellphone_num</th>\n      <th>cravings</th>\n      <th>extras</th>\n      <th>price</th>\n      <th>essentials</th>\n      <th>url</th>\n      <th>tags</th>\n      <th>sorted_tags</th>\n      <th>website</th>\n      <th>thumbnail</th>\n    </tr>\n  </thead>\n  <tbody>\n    <tr>\n      <th>0</th>\n      <td>5db9cca342719ae4a3000240</td>\n      <td>Restaurant</td>\n      <td>Shinjuku Pigalle</td>\n      <td>{'_id': '5db9cca342719ae4a300023f', 'city': 'P...</td>\n      <td>+33 1 42 06 18 14</td>\n      <td></td>\n      <td>[Japonais]</td>\n      <td>[Antidépresseur, Manger seul ]</td>\n      <td>[De 16 à 35 €]</td>\n      <td>[]</td>\n      <td>https://lefooding.com/fr/restaurants/restauran...</td>\n      <td>[{'category': 'Les plus', 'type': 'zeplus', 'n...</td>\n      <td>{'zeplus': ['Antidépresseur', 'Manger seul '],...</td>\n      <td></td>\n      <td>/media/W1siZiIsIjIwMTkvMTAvMzAvMTlfMDVfMTVfNjQ...</td>\n    </tr>\n    <tr>\n      <th>1</th>\n      <td>5dc3b2a942719a7876000189</td>\n      <td>Restaurant</td>\n      <td>Basique</td>\n      <td>{'_id': '5dc3b2a942719a7876000187', 'city': 'P...</td>\n      <td>+33 1 40 24 20 48</td>\n      <td></td>\n      <td>[Tapas]</td>\n      <td>[Antidépresseur, Terrasse]</td>\n      <td>[De 16 à 35 €]</td>\n      <td>[]</td>\n      <td>https://lefooding.com/fr/restaurants/restauran...</td>\n      <td>[{'category': 'Les plus', 'type': 'zeplus', 'n...</td>\n      <td>{'zeplus': ['Antidépresseur', 'Terrasse'], 'pr...</td>\n      <td></td>\n      <td>/media/W1siZiIsIjIwMTkvMTEvMDcvMDZfNTlfMDVfOTk...</td>\n    </tr>\n    <tr>\n      <th>2</th>\n      <td>5c9129b242719a757f000413</td>\n      <td>Restaurant</td>\n      <td>Gramme</td>\n      <td>{'_id': '5c9129b242719a757f000411', 'city': 'P...</td>\n      <td>+33 9 50 92 20 23</td>\n      <td></td>\n      <td>[Café / Coffee Shop, Snack / Tartes / Salades ...</td>\n      <td>[Ouvert le dimanche, Ouvert le lundi, Take-awa...</td>\n      <td>[Moins de 15 €]</td>\n      <td>[]</td>\n      <td>https://lefooding.com/fr/restaurants/restauran...</td>\n      <td>[{'category': 'Les plus', 'type': 'zeplus', 'n...</td>\n      <td>{'zeplus': ['Ouvert le dimanche', 'Ouvert le l...</td>\n      <td></td>\n      <td>/media/W1siZiIsIjIwMTkvMDMvMTkvMThfNDFfMDZfNDU...</td>\n    </tr>\n    <tr>\n      <th>3</th>\n      <td>5cd999f442719a064f000095</td>\n      <td>Restaurant</td>\n      <td>Chinaski</td>\n      <td>{'_id': '5cd999f442719a064f000093', 'city': 'P...</td>\n      <td>+33 1 73 74 74 06</td>\n      <td></td>\n      <td>[Café / Coffee Shop, Cuisine d'auteur, Néobist...</td>\n      <td>[Ouvert le dimanche, Antidépresseur, Terrasse,...</td>\n      <td>[De 16 à 35 €]</td>\n      <td>[Feeling]</td>\n      <td>https://lefooding.com/fr/restaurants/restauran...</td>\n      <td>[{'category': 'Les plus', 'type': 'zeplus', 'n...</td>\n      <td>{'zeplus': ['Ouvert le dimanche', 'Antidépress...</td>\n      <td>www.chinaskiparis.com</td>\n      <td>/media/W1siZiIsIjIwMTkvMDUvMTMvMThfMjNfMTZfNzM...</td>\n    </tr>\n    <tr>\n      <th>4</th>\n      <td>5cd3049742719a93b40000e0</td>\n      <td>Restaurant</td>\n      <td>Sucrépice</td>\n      <td>{'_id': '5cd3049742719a93b40000de', 'city': 'P...</td>\n      <td>+33 1 72 67 11 74</td>\n      <td></td>\n      <td>[Chinois]</td>\n      <td>[Ouvert le dimanche, Ouvert le lundi, Take-awa...</td>\n      <td>[Moins de 15 €]</td>\n      <td>[]</td>\n      <td>https://lefooding.com/fr/restaurants/restauran...</td>\n      <td>[{'category': 'Les plus', 'type': 'zeplus', 'n...</td>\n      <td>{'zeplus': ['Ouvert le dimanche', 'Ouvert le l...</td>\n      <td>www.sucrepice.fr</td>\n      <td>/media/W1siZiIsIjIwMTkvMDUvMDgvMThfMzJfMjNfODY...</td>\n    </tr>\n    <tr>\n      <th>5</th>\n      <td>5a26b1e342719a13ff000019</td>\n      <td>Restaurant</td>\n      <td>Così</td>\n      <td>{'_id': '5845940b42719a90f9000007', 'city': 'P...</td>\n      <td>+33 1 46 33 35 36</td>\n      <td></td>\n      <td>[Sandwichs / Bagels, Lèche-doigts]</td>\n      <td>[Ouvert le dimanche, Ouvert le lundi, Antidépr...</td>\n      <td>[Moins de 15 €]</td>\n      <td>[Feeling]</td>\n      <td>https://lefooding.com/fr/restaurants/restauran...</td>\n      <td>[{'category': 'Les plus', 'type': 'zeplus', 'n...</td>\n      <td>{'zeplus': ['Ouvert le dimanche', 'Ouvert le l...</td>\n      <td></td>\n      <td>/media/W1siZiIsIjIwMTYvMDYvMDIvMTBfNTBfNDhfNTc...</td>\n    </tr>\n    <tr>\n      <th>6</th>\n      <td>5a26a5b142719aee3b000007</td>\n      <td>Restaurant</td>\n      <td>Kodawari Yokocho</td>\n      <td>{'_id': '584580d542719ae1dd00002f', 'city': 'P...</td>\n      <td>+ 33 9 70 91 12 41</td>\n      <td></td>\n      <td>[Japonais]</td>\n      <td>[Ouvert le dimanche, Antidépresseur]</td>\n      <td>[De 16 à 35 €]</td>\n      <td>[]</td>\n      <td>https://lefooding.com/fr/restaurants/restauran...</td>\n      <td>[{'category': 'Les plus', 'type': 'zeplus', 'n...</td>\n      <td>{'zeplus': ['Ouvert le dimanche', 'Antidépress...</td>\n      <td>kodawari-ramen.com</td>\n      <td></td>\n    </tr>\n    <tr>\n      <th>7</th>\n      <td>5d64150142719a5c10000015</td>\n      <td>Restaurant</td>\n      <td>Cuisine</td>\n      <td>{'_id': '5d64150042719a5c10000013', 'city': 'P...</td>\n      <td>+33 1 44 63 75 64</td>\n      <td></td>\n      <td>[Néobistrot, Bar à vins / Cave à manger]</td>\n      <td>[Ouvert le lundi, Terrasse]</td>\n      <td>[De 16 à 35 €]</td>\n      <td>[Feeling]</td>\n      <td>https://lefooding.com/fr/restaurants/restauran...</td>\n      <td>[{'category': 'Les plus', 'type': 'zeplus', 'n...</td>\n      <td>{'zeplus': ['Ouvert le lundi', 'Terrasse'], 'e...</td>\n      <td>www.restaurantcuisine.fr</td>\n      <td>/media/W1siZiIsIjIwMTkvMDgvMjYvMTlfMjFfMDVfMjl...</td>\n    </tr>\n    <tr>\n      <th>8</th>\n      <td>5d7b4d7942719a3c640000fb</td>\n      <td>Restaurant</td>\n      <td>Dumbo</td>\n      <td>{'_id': '5d7b4d7942719a3c640000f9', 'city': 'P...</td>\n      <td>Pas de téléphone.</td>\n      <td></td>\n      <td>[Burgers]</td>\n      <td>[Take-away, Antidépresseur, Manger seul ]</td>\n      <td>[Moins de 15 €]</td>\n      <td>[]</td>\n      <td>https://lefooding.com/fr/restaurants/restauran...</td>\n      <td>[{'category': 'Les plus', 'type': 'zeplus', 'n...</td>\n      <td>{'zeplus': ['Take-away', 'Antidépresseur', 'Ma...</td>\n      <td></td>\n      <td>/media/W1siZiIsIjIwMTkvMDkvMTMvMTBfMDRfMDlfNjU...</td>\n    </tr>\n    <tr>\n      <th>9</th>\n      <td>5c1a922842719aac5500015e</td>\n      <td>Restaurant</td>\n      <td>Vermillon</td>\n      <td>{'_id': '5c1a922842719aac5500015c', 'city': 'P...</td>\n      <td>+ 33 1 42 41 49 68</td>\n      <td></td>\n      <td>[Cuisine du marché]</td>\n      <td>[Antidépresseur, Terrasse]</td>\n      <td>[De 16 à 35 €]</td>\n      <td>[Feeling]</td>\n      <td>https://lefooding.com/fr/restaurants/restauran...</td>\n      <td>[{'category': 'Les plus', 'type': 'zeplus', 'n...</td>\n      <td>{'zeplus': ['Antidépresseur', 'Terrasse'], 'es...</td>\n      <td></td>\n      <td>/media/W1siZiIsIjIwMTgvMTIvMjAvMTBfMjJfNDBfOTI...</td>\n    </tr>\n  </tbody>\n</table>\n</div>"
     },
     "metadata": {},
     "execution_count": 67
    }
   ],
   "source": [
    "with open(\"data.json\") as datafile:  #récupération datajson \n",
    "    data = json.load(datafile)\n",
    "dataframe = pd.DataFrame(data[\"results\"])\n",
    "dataframe"
   ]
  },
  {
   "cell_type": "code",
   "execution_count": 68,
   "metadata": {
    "tags": []
   },
   "outputs": [],
   "source": [
    "#récupère les données latitude, longitude à partir du dico adresse\n",
    "dataframe[\"lat\"] = 0\n",
    "dataframe[\"long\"] = 0\n",
    "dataframe[\"city\"] = \"\"\n",
    "dataframe[\"country\"] = \"\"\n",
    "dataframe[\"postal_code\"] = \"\"\n",
    "dataframe[\"street_name_1\"] = \"\"\n",
    "for i in range(len(dataframe)):\n",
    "    pos = dataframe[\"address\"][i][\"position\"]\n",
    "    dataframe[\"lat\"].loc[i] = pos[0]\n",
    "    dataframe[\"long\"].loc[i]= pos[1]\n",
    "    dataframe[\"city\"].loc[i] = dataframe[\"address\"][i][\"city\"]\n",
    "    dataframe[\"country\"].loc[i] = dataframe[\"address\"][i][\"country\"]\n",
    "    dataframe[\"postal_code\"] = dataframe[\"address\"][i][\"postal_code\"]\n",
    "    dataframe[\"street_name_1\"].loc[i] = dataframe[\"address\"][i][\"street_name_1\"]"
   ]
  },
  {
   "cell_type": "code",
   "execution_count": 69,
   "metadata": {
    "tags": []
   },
   "outputs": [
    {
     "output_type": "execute_result",
     "data": {
      "text/plain": "                         id        type               name  \\\n0  5db9cca342719ae4a3000240  Restaurant   Shinjuku Pigalle   \n1  5dc3b2a942719a7876000189  Restaurant            Basique   \n2  5c9129b242719a757f000413  Restaurant             Gramme   \n3  5cd999f442719a064f000095  Restaurant           Chinaski   \n4  5cd3049742719a93b40000e0  Restaurant          Sucrépice   \n5  5a26b1e342719a13ff000019  Restaurant               Così   \n6  5a26a5b142719aee3b000007  Restaurant  Kodawari Yokocho    \n7  5d64150142719a5c10000015  Restaurant            Cuisine   \n8  5d7b4d7942719a3c640000fb  Restaurant              Dumbo   \n9  5c1a922842719aac5500015e  Restaurant          Vermillon   \n\n                                             address           phone_num  \\\n0  {'_id': '5db9cca342719ae4a300023f', 'city': 'P...   +33 1 42 06 18 14   \n1  {'_id': '5dc3b2a942719a7876000187', 'city': 'P...   +33 1 40 24 20 48   \n2  {'_id': '5c9129b242719a757f000411', 'city': 'P...   +33 9 50 92 20 23   \n3  {'_id': '5cd999f442719a064f000093', 'city': 'P...   +33 1 73 74 74 06   \n4  {'_id': '5cd3049742719a93b40000de', 'city': 'P...   +33 1 72 67 11 74   \n5  {'_id': '5845940b42719a90f9000007', 'city': 'P...   +33 1 46 33 35 36   \n6  {'_id': '584580d542719ae1dd00002f', 'city': 'P...  + 33 9 70 91 12 41   \n7  {'_id': '5d64150042719a5c10000013', 'city': 'P...   +33 1 44 63 75 64   \n8  {'_id': '5d7b4d7942719a3c640000f9', 'city': 'P...  Pas de téléphone.    \n9  {'_id': '5c1a922842719aac5500015c', 'city': 'P...  + 33 1 42 41 49 68   \n\n  cellphone_num                                           cravings  \\\n0                                                       [Japonais]   \n1                                                          [Tapas]   \n2                [Café / Coffee Shop, Snack / Tartes / Salades ...   \n3                [Café / Coffee Shop, Cuisine d'auteur, Néobist...   \n4                                                        [Chinois]   \n5                               [Sandwichs / Bagels, Lèche-doigts]   \n6                                                       [Japonais]   \n7                         [Néobistrot, Bar à vins / Cave à manger]   \n8                                                        [Burgers]   \n9                                              [Cuisine du marché]   \n\n                                              extras            price  \\\n0                     [Antidépresseur, Manger seul ]   [De 16 à 35 €]   \n1                         [Antidépresseur, Terrasse]   [De 16 à 35 €]   \n2  [Ouvert le dimanche, Ouvert le lundi, Take-awa...  [Moins de 15 €]   \n3  [Ouvert le dimanche, Antidépresseur, Terrasse,...   [De 16 à 35 €]   \n4  [Ouvert le dimanche, Ouvert le lundi, Take-awa...  [Moins de 15 €]   \n5  [Ouvert le dimanche, Ouvert le lundi, Antidépr...  [Moins de 15 €]   \n6               [Ouvert le dimanche, Antidépresseur]   [De 16 à 35 €]   \n7                        [Ouvert le lundi, Terrasse]   [De 16 à 35 €]   \n8          [Take-away, Antidépresseur, Manger seul ]  [Moins de 15 €]   \n9                         [Antidépresseur, Terrasse]   [De 16 à 35 €]   \n\n  essentials  ...                                               tags  \\\n0         []  ...  [{'category': 'Les plus', 'type': 'zeplus', 'n...   \n1         []  ...  [{'category': 'Les plus', 'type': 'zeplus', 'n...   \n2         []  ...  [{'category': 'Les plus', 'type': 'zeplus', 'n...   \n3  [Feeling]  ...  [{'category': 'Les plus', 'type': 'zeplus', 'n...   \n4         []  ...  [{'category': 'Les plus', 'type': 'zeplus', 'n...   \n5  [Feeling]  ...  [{'category': 'Les plus', 'type': 'zeplus', 'n...   \n6         []  ...  [{'category': 'Les plus', 'type': 'zeplus', 'n...   \n7  [Feeling]  ...  [{'category': 'Les plus', 'type': 'zeplus', 'n...   \n8         []  ...  [{'category': 'Les plus', 'type': 'zeplus', 'n...   \n9  [Feeling]  ...  [{'category': 'Les plus', 'type': 'zeplus', 'n...   \n\n                                         sorted_tags  \\\n0  {'zeplus': ['Antidépresseur', 'Manger seul '],...   \n1  {'zeplus': ['Antidépresseur', 'Terrasse'], 'pr...   \n2  {'zeplus': ['Ouvert le dimanche', 'Ouvert le l...   \n3  {'zeplus': ['Ouvert le dimanche', 'Antidépress...   \n4  {'zeplus': ['Ouvert le dimanche', 'Ouvert le l...   \n5  {'zeplus': ['Ouvert le dimanche', 'Ouvert le l...   \n6  {'zeplus': ['Ouvert le dimanche', 'Antidépress...   \n7  {'zeplus': ['Ouvert le lundi', 'Terrasse'], 'e...   \n8  {'zeplus': ['Take-away', 'Antidépresseur', 'Ma...   \n9  {'zeplus': ['Antidépresseur', 'Terrasse'], 'es...   \n\n                    website  \\\n0                             \n1                             \n2                             \n3     www.chinaskiparis.com   \n4          www.sucrepice.fr   \n5                             \n6        kodawari-ramen.com   \n7  www.restaurantcuisine.fr   \n8                             \n9                             \n\n                                           thumbnail        lat      long  \\\n0  /media/W1siZiIsIjIwMTkvMTAvMzAvMTlfMDVfMTVfNjQ...  48.880302  2.343186   \n1  /media/W1siZiIsIjIwMTkvMTEvMDcvMDZfNTlfMDVfOTk...  48.856626  2.379403   \n2  /media/W1siZiIsIjIwMTkvMDMvMTkvMThfNDFfMDZfNDU...  48.863063  2.360760   \n3  /media/W1siZiIsIjIwMTkvMDUvMTMvMThfMjNfMTZfNzM...  48.840358  2.350236   \n4  /media/W1siZiIsIjIwMTkvMDUvMDgvMThfMzJfMjNfODY...  48.847367  2.351738   \n5  /media/W1siZiIsIjIwMTYvMDYvMDIvMTBfNTBfNDhfNTc...  48.854086  2.336874   \n6                                                     48.854658  2.338127   \n7  /media/W1siZiIsIjIwMTkvMDgvMjYvMTlfMjFfMDVfMjl...  48.880488  2.343315   \n8  /media/W1siZiIsIjIwMTkvMDkvMTMvMTBfMDRfMDlfNjU...  48.881654  2.336959   \n9  /media/W1siZiIsIjIwMTgvMTIvMjAvMTBfMjJfNDBfOTI...  48.882219  2.331373   \n\n    city country postal_code                  street_name_1  \n0  Paris  France       75009              52, rue Condorcet  \n1  Paris  France       75009          164, av. Ledru-Rollin  \n2  Paris  France       75009           86, rue des Archives  \n3  Paris  France       75009              46, rue Daubenton  \n4  Paris  France       75009                 5, rue d'Arras  \n5  Paris  France       75009               54, rue de Seine  \n6  Paris  France       75009               29, rue Mazarine  \n7  Paris  France       75009              50, rue Condorcet  \n8  Paris  France       75009  64, rue Jean-Baptiste Pigalle  \n9  Paris  France       75009               5, rue de Calais  \n\n[10 rows x 21 columns]",
      "text/html": "<div>\n<style scoped>\n    .dataframe tbody tr th:only-of-type {\n        vertical-align: middle;\n    }\n\n    .dataframe tbody tr th {\n        vertical-align: top;\n    }\n\n    .dataframe thead th {\n        text-align: right;\n    }\n</style>\n<table border=\"1\" class=\"dataframe\">\n  <thead>\n    <tr style=\"text-align: right;\">\n      <th></th>\n      <th>id</th>\n      <th>type</th>\n      <th>name</th>\n      <th>address</th>\n      <th>phone_num</th>\n      <th>cellphone_num</th>\n      <th>cravings</th>\n      <th>extras</th>\n      <th>price</th>\n      <th>essentials</th>\n      <th>...</th>\n      <th>tags</th>\n      <th>sorted_tags</th>\n      <th>website</th>\n      <th>thumbnail</th>\n      <th>lat</th>\n      <th>long</th>\n      <th>city</th>\n      <th>country</th>\n      <th>postal_code</th>\n      <th>street_name_1</th>\n    </tr>\n  </thead>\n  <tbody>\n    <tr>\n      <th>0</th>\n      <td>5db9cca342719ae4a3000240</td>\n      <td>Restaurant</td>\n      <td>Shinjuku Pigalle</td>\n      <td>{'_id': '5db9cca342719ae4a300023f', 'city': 'P...</td>\n      <td>+33 1 42 06 18 14</td>\n      <td></td>\n      <td>[Japonais]</td>\n      <td>[Antidépresseur, Manger seul ]</td>\n      <td>[De 16 à 35 €]</td>\n      <td>[]</td>\n      <td>...</td>\n      <td>[{'category': 'Les plus', 'type': 'zeplus', 'n...</td>\n      <td>{'zeplus': ['Antidépresseur', 'Manger seul '],...</td>\n      <td></td>\n      <td>/media/W1siZiIsIjIwMTkvMTAvMzAvMTlfMDVfMTVfNjQ...</td>\n      <td>48.880302</td>\n      <td>2.343186</td>\n      <td>Paris</td>\n      <td>France</td>\n      <td>75009</td>\n      <td>52, rue Condorcet</td>\n    </tr>\n    <tr>\n      <th>1</th>\n      <td>5dc3b2a942719a7876000189</td>\n      <td>Restaurant</td>\n      <td>Basique</td>\n      <td>{'_id': '5dc3b2a942719a7876000187', 'city': 'P...</td>\n      <td>+33 1 40 24 20 48</td>\n      <td></td>\n      <td>[Tapas]</td>\n      <td>[Antidépresseur, Terrasse]</td>\n      <td>[De 16 à 35 €]</td>\n      <td>[]</td>\n      <td>...</td>\n      <td>[{'category': 'Les plus', 'type': 'zeplus', 'n...</td>\n      <td>{'zeplus': ['Antidépresseur', 'Terrasse'], 'pr...</td>\n      <td></td>\n      <td>/media/W1siZiIsIjIwMTkvMTEvMDcvMDZfNTlfMDVfOTk...</td>\n      <td>48.856626</td>\n      <td>2.379403</td>\n      <td>Paris</td>\n      <td>France</td>\n      <td>75009</td>\n      <td>164, av. Ledru-Rollin</td>\n    </tr>\n    <tr>\n      <th>2</th>\n      <td>5c9129b242719a757f000413</td>\n      <td>Restaurant</td>\n      <td>Gramme</td>\n      <td>{'_id': '5c9129b242719a757f000411', 'city': 'P...</td>\n      <td>+33 9 50 92 20 23</td>\n      <td></td>\n      <td>[Café / Coffee Shop, Snack / Tartes / Salades ...</td>\n      <td>[Ouvert le dimanche, Ouvert le lundi, Take-awa...</td>\n      <td>[Moins de 15 €]</td>\n      <td>[]</td>\n      <td>...</td>\n      <td>[{'category': 'Les plus', 'type': 'zeplus', 'n...</td>\n      <td>{'zeplus': ['Ouvert le dimanche', 'Ouvert le l...</td>\n      <td></td>\n      <td>/media/W1siZiIsIjIwMTkvMDMvMTkvMThfNDFfMDZfNDU...</td>\n      <td>48.863063</td>\n      <td>2.360760</td>\n      <td>Paris</td>\n      <td>France</td>\n      <td>75009</td>\n      <td>86, rue des Archives</td>\n    </tr>\n    <tr>\n      <th>3</th>\n      <td>5cd999f442719a064f000095</td>\n      <td>Restaurant</td>\n      <td>Chinaski</td>\n      <td>{'_id': '5cd999f442719a064f000093', 'city': 'P...</td>\n      <td>+33 1 73 74 74 06</td>\n      <td></td>\n      <td>[Café / Coffee Shop, Cuisine d'auteur, Néobist...</td>\n      <td>[Ouvert le dimanche, Antidépresseur, Terrasse,...</td>\n      <td>[De 16 à 35 €]</td>\n      <td>[Feeling]</td>\n      <td>...</td>\n      <td>[{'category': 'Les plus', 'type': 'zeplus', 'n...</td>\n      <td>{'zeplus': ['Ouvert le dimanche', 'Antidépress...</td>\n      <td>www.chinaskiparis.com</td>\n      <td>/media/W1siZiIsIjIwMTkvMDUvMTMvMThfMjNfMTZfNzM...</td>\n      <td>48.840358</td>\n      <td>2.350236</td>\n      <td>Paris</td>\n      <td>France</td>\n      <td>75009</td>\n      <td>46, rue Daubenton</td>\n    </tr>\n    <tr>\n      <th>4</th>\n      <td>5cd3049742719a93b40000e0</td>\n      <td>Restaurant</td>\n      <td>Sucrépice</td>\n      <td>{'_id': '5cd3049742719a93b40000de', 'city': 'P...</td>\n      <td>+33 1 72 67 11 74</td>\n      <td></td>\n      <td>[Chinois]</td>\n      <td>[Ouvert le dimanche, Ouvert le lundi, Take-awa...</td>\n      <td>[Moins de 15 €]</td>\n      <td>[]</td>\n      <td>...</td>\n      <td>[{'category': 'Les plus', 'type': 'zeplus', 'n...</td>\n      <td>{'zeplus': ['Ouvert le dimanche', 'Ouvert le l...</td>\n      <td>www.sucrepice.fr</td>\n      <td>/media/W1siZiIsIjIwMTkvMDUvMDgvMThfMzJfMjNfODY...</td>\n      <td>48.847367</td>\n      <td>2.351738</td>\n      <td>Paris</td>\n      <td>France</td>\n      <td>75009</td>\n      <td>5, rue d'Arras</td>\n    </tr>\n    <tr>\n      <th>5</th>\n      <td>5a26b1e342719a13ff000019</td>\n      <td>Restaurant</td>\n      <td>Così</td>\n      <td>{'_id': '5845940b42719a90f9000007', 'city': 'P...</td>\n      <td>+33 1 46 33 35 36</td>\n      <td></td>\n      <td>[Sandwichs / Bagels, Lèche-doigts]</td>\n      <td>[Ouvert le dimanche, Ouvert le lundi, Antidépr...</td>\n      <td>[Moins de 15 €]</td>\n      <td>[Feeling]</td>\n      <td>...</td>\n      <td>[{'category': 'Les plus', 'type': 'zeplus', 'n...</td>\n      <td>{'zeplus': ['Ouvert le dimanche', 'Ouvert le l...</td>\n      <td></td>\n      <td>/media/W1siZiIsIjIwMTYvMDYvMDIvMTBfNTBfNDhfNTc...</td>\n      <td>48.854086</td>\n      <td>2.336874</td>\n      <td>Paris</td>\n      <td>France</td>\n      <td>75009</td>\n      <td>54, rue de Seine</td>\n    </tr>\n    <tr>\n      <th>6</th>\n      <td>5a26a5b142719aee3b000007</td>\n      <td>Restaurant</td>\n      <td>Kodawari Yokocho</td>\n      <td>{'_id': '584580d542719ae1dd00002f', 'city': 'P...</td>\n      <td>+ 33 9 70 91 12 41</td>\n      <td></td>\n      <td>[Japonais]</td>\n      <td>[Ouvert le dimanche, Antidépresseur]</td>\n      <td>[De 16 à 35 €]</td>\n      <td>[]</td>\n      <td>...</td>\n      <td>[{'category': 'Les plus', 'type': 'zeplus', 'n...</td>\n      <td>{'zeplus': ['Ouvert le dimanche', 'Antidépress...</td>\n      <td>kodawari-ramen.com</td>\n      <td></td>\n      <td>48.854658</td>\n      <td>2.338127</td>\n      <td>Paris</td>\n      <td>France</td>\n      <td>75009</td>\n      <td>29, rue Mazarine</td>\n    </tr>\n    <tr>\n      <th>7</th>\n      <td>5d64150142719a5c10000015</td>\n      <td>Restaurant</td>\n      <td>Cuisine</td>\n      <td>{'_id': '5d64150042719a5c10000013', 'city': 'P...</td>\n      <td>+33 1 44 63 75 64</td>\n      <td></td>\n      <td>[Néobistrot, Bar à vins / Cave à manger]</td>\n      <td>[Ouvert le lundi, Terrasse]</td>\n      <td>[De 16 à 35 €]</td>\n      <td>[Feeling]</td>\n      <td>...</td>\n      <td>[{'category': 'Les plus', 'type': 'zeplus', 'n...</td>\n      <td>{'zeplus': ['Ouvert le lundi', 'Terrasse'], 'e...</td>\n      <td>www.restaurantcuisine.fr</td>\n      <td>/media/W1siZiIsIjIwMTkvMDgvMjYvMTlfMjFfMDVfMjl...</td>\n      <td>48.880488</td>\n      <td>2.343315</td>\n      <td>Paris</td>\n      <td>France</td>\n      <td>75009</td>\n      <td>50, rue Condorcet</td>\n    </tr>\n    <tr>\n      <th>8</th>\n      <td>5d7b4d7942719a3c640000fb</td>\n      <td>Restaurant</td>\n      <td>Dumbo</td>\n      <td>{'_id': '5d7b4d7942719a3c640000f9', 'city': 'P...</td>\n      <td>Pas de téléphone.</td>\n      <td></td>\n      <td>[Burgers]</td>\n      <td>[Take-away, Antidépresseur, Manger seul ]</td>\n      <td>[Moins de 15 €]</td>\n      <td>[]</td>\n      <td>...</td>\n      <td>[{'category': 'Les plus', 'type': 'zeplus', 'n...</td>\n      <td>{'zeplus': ['Take-away', 'Antidépresseur', 'Ma...</td>\n      <td></td>\n      <td>/media/W1siZiIsIjIwMTkvMDkvMTMvMTBfMDRfMDlfNjU...</td>\n      <td>48.881654</td>\n      <td>2.336959</td>\n      <td>Paris</td>\n      <td>France</td>\n      <td>75009</td>\n      <td>64, rue Jean-Baptiste Pigalle</td>\n    </tr>\n    <tr>\n      <th>9</th>\n      <td>5c1a922842719aac5500015e</td>\n      <td>Restaurant</td>\n      <td>Vermillon</td>\n      <td>{'_id': '5c1a922842719aac5500015c', 'city': 'P...</td>\n      <td>+ 33 1 42 41 49 68</td>\n      <td></td>\n      <td>[Cuisine du marché]</td>\n      <td>[Antidépresseur, Terrasse]</td>\n      <td>[De 16 à 35 €]</td>\n      <td>[Feeling]</td>\n      <td>...</td>\n      <td>[{'category': 'Les plus', 'type': 'zeplus', 'n...</td>\n      <td>{'zeplus': ['Antidépresseur', 'Terrasse'], 'es...</td>\n      <td></td>\n      <td>/media/W1siZiIsIjIwMTgvMTIvMjAvMTBfMjJfNDBfOTI...</td>\n      <td>48.882219</td>\n      <td>2.331373</td>\n      <td>Paris</td>\n      <td>France</td>\n      <td>75009</td>\n      <td>5, rue de Calais</td>\n    </tr>\n  </tbody>\n</table>\n<p>10 rows × 21 columns</p>\n</div>"
     },
     "metadata": {},
     "execution_count": 69
    }
   ],
   "source": [
    "dataframe"
   ]
  },
  {
   "cell_type": "code",
   "execution_count": 70,
   "metadata": {},
   "outputs": [],
   "source": [
    "def premier(liste):\n",
    "    try:\n",
    "        return liste[0]\n",
    "    except:\n",
    "        return ''"
   ]
  },
  {
   "cell_type": "code",
   "execution_count": 71,
   "metadata": {
    "tags": []
   },
   "outputs": [
    {
     "output_type": "execute_result",
     "data": {
      "text/plain": "['Japonais',\n 'Tapas',\n 'Café',\n 'Coffee Shop',\n 'Chinois',\n 'Sandwichs',\n 'Bagels',\n 'Néobistrot',\n 'Burgers',\n 'Cuisine du marché']"
     },
     "metadata": {},
     "execution_count": 71
    }
   ],
   "source": [
    "#forme la liste déroulante des types de restaurants pour la liste déroulante\n",
    "\n",
    "listDataframe = []\n",
    "\n",
    "def addInList(item):\n",
    "    item = item.strip()\n",
    "    if(item not in listDataframe):\n",
    "        listDataframe.append(item)\n",
    "\n",
    "dataframe[\"cravings\"] = dataframe[\"cravings\"].apply(premier)\n",
    "cravings = dataframe[\"cravings\"]\n",
    "\n",
    "for i in range (len(cravings)):\n",
    "    tempType = (cravings[i])\n",
    "    if(\"/\" in cravings[i]):\n",
    "        for crav in (cravings[i].split('/')):\n",
    "            addInList(crav)\n",
    "    else:\n",
    "        addInList(cravings[i])\n",
    "\n",
    "listDataframe"
   ]
  },
  {
   "cell_type": "code",
   "execution_count": 72,
   "metadata": {},
   "outputs": [
    {
     "output_type": "execute_result",
     "data": {
      "text/plain": "                         id        type               name  \\\n0  5db9cca342719ae4a3000240  Restaurant   Shinjuku Pigalle   \n1  5dc3b2a942719a7876000189  Restaurant            Basique   \n2  5c9129b242719a757f000413  Restaurant             Gramme   \n3  5cd999f442719a064f000095  Restaurant           Chinaski   \n4  5cd3049742719a93b40000e0  Restaurant          Sucrépice   \n5  5a26b1e342719a13ff000019  Restaurant               Così   \n6  5a26a5b142719aee3b000007  Restaurant  Kodawari Yokocho    \n7  5d64150142719a5c10000015  Restaurant            Cuisine   \n8  5d7b4d7942719a3c640000fb  Restaurant              Dumbo   \n9  5c1a922842719aac5500015e  Restaurant          Vermillon   \n\n                                             address           phone_num  \\\n0  {'_id': '5db9cca342719ae4a300023f', 'city': 'P...   +33 1 42 06 18 14   \n1  {'_id': '5dc3b2a942719a7876000187', 'city': 'P...   +33 1 40 24 20 48   \n2  {'_id': '5c9129b242719a757f000411', 'city': 'P...   +33 9 50 92 20 23   \n3  {'_id': '5cd999f442719a064f000093', 'city': 'P...   +33 1 73 74 74 06   \n4  {'_id': '5cd3049742719a93b40000de', 'city': 'P...   +33 1 72 67 11 74   \n5  {'_id': '5845940b42719a90f9000007', 'city': 'P...   +33 1 46 33 35 36   \n6  {'_id': '584580d542719ae1dd00002f', 'city': 'P...  + 33 9 70 91 12 41   \n7  {'_id': '5d64150042719a5c10000013', 'city': 'P...   +33 1 44 63 75 64   \n8  {'_id': '5d7b4d7942719a3c640000f9', 'city': 'P...  Pas de téléphone.    \n9  {'_id': '5c1a922842719aac5500015c', 'city': 'P...  + 33 1 42 41 49 68   \n\n  cellphone_num            cravings  \\\n0                          Japonais   \n1                             Tapas   \n2                Café / Coffee Shop   \n3                Café / Coffee Shop   \n4                           Chinois   \n5                Sandwichs / Bagels   \n6                          Japonais   \n7                        Néobistrot   \n8                           Burgers   \n9                 Cuisine du marché   \n\n                                              extras            price  \\\n0                     [Antidépresseur, Manger seul ]   [De 16 à 35 €]   \n1                         [Antidépresseur, Terrasse]   [De 16 à 35 €]   \n2  [Ouvert le dimanche, Ouvert le lundi, Take-awa...  [Moins de 15 €]   \n3  [Ouvert le dimanche, Antidépresseur, Terrasse,...   [De 16 à 35 €]   \n4  [Ouvert le dimanche, Ouvert le lundi, Take-awa...  [Moins de 15 €]   \n5  [Ouvert le dimanche, Ouvert le lundi, Antidépr...  [Moins de 15 €]   \n6               [Ouvert le dimanche, Antidépresseur]   [De 16 à 35 €]   \n7                        [Ouvert le lundi, Terrasse]   [De 16 à 35 €]   \n8          [Take-away, Antidépresseur, Manger seul ]  [Moins de 15 €]   \n9                         [Antidépresseur, Terrasse]   [De 16 à 35 €]   \n\n  essentials  ...                                               tags  \\\n0         []  ...  [{'category': 'Les plus', 'type': 'zeplus', 'n...   \n1         []  ...  [{'category': 'Les plus', 'type': 'zeplus', 'n...   \n2         []  ...  [{'category': 'Les plus', 'type': 'zeplus', 'n...   \n3  [Feeling]  ...  [{'category': 'Les plus', 'type': 'zeplus', 'n...   \n4         []  ...  [{'category': 'Les plus', 'type': 'zeplus', 'n...   \n5  [Feeling]  ...  [{'category': 'Les plus', 'type': 'zeplus', 'n...   \n6         []  ...  [{'category': 'Les plus', 'type': 'zeplus', 'n...   \n7  [Feeling]  ...  [{'category': 'Les plus', 'type': 'zeplus', 'n...   \n8         []  ...  [{'category': 'Les plus', 'type': 'zeplus', 'n...   \n9  [Feeling]  ...  [{'category': 'Les plus', 'type': 'zeplus', 'n...   \n\n                                         sorted_tags  \\\n0  {'zeplus': ['Antidépresseur', 'Manger seul '],...   \n1  {'zeplus': ['Antidépresseur', 'Terrasse'], 'pr...   \n2  {'zeplus': ['Ouvert le dimanche', 'Ouvert le l...   \n3  {'zeplus': ['Ouvert le dimanche', 'Antidépress...   \n4  {'zeplus': ['Ouvert le dimanche', 'Ouvert le l...   \n5  {'zeplus': ['Ouvert le dimanche', 'Ouvert le l...   \n6  {'zeplus': ['Ouvert le dimanche', 'Antidépress...   \n7  {'zeplus': ['Ouvert le lundi', 'Terrasse'], 'e...   \n8  {'zeplus': ['Take-away', 'Antidépresseur', 'Ma...   \n9  {'zeplus': ['Antidépresseur', 'Terrasse'], 'es...   \n\n                    website  \\\n0                             \n1                             \n2                             \n3     www.chinaskiparis.com   \n4          www.sucrepice.fr   \n5                             \n6        kodawari-ramen.com   \n7  www.restaurantcuisine.fr   \n8                             \n9                             \n\n                                           thumbnail        lat      long  \\\n0  /media/W1siZiIsIjIwMTkvMTAvMzAvMTlfMDVfMTVfNjQ...  48.880302  2.343186   \n1  /media/W1siZiIsIjIwMTkvMTEvMDcvMDZfNTlfMDVfOTk...  48.856626  2.379403   \n2  /media/W1siZiIsIjIwMTkvMDMvMTkvMThfNDFfMDZfNDU...  48.863063  2.360760   \n3  /media/W1siZiIsIjIwMTkvMDUvMTMvMThfMjNfMTZfNzM...  48.840358  2.350236   \n4  /media/W1siZiIsIjIwMTkvMDUvMDgvMThfMzJfMjNfODY...  48.847367  2.351738   \n5  /media/W1siZiIsIjIwMTYvMDYvMDIvMTBfNTBfNDhfNTc...  48.854086  2.336874   \n6                                                     48.854658  2.338127   \n7  /media/W1siZiIsIjIwMTkvMDgvMjYvMTlfMjFfMDVfMjl...  48.880488  2.343315   \n8  /media/W1siZiIsIjIwMTkvMDkvMTMvMTBfMDRfMDlfNjU...  48.881654  2.336959   \n9  /media/W1siZiIsIjIwMTgvMTIvMjAvMTBfMjJfNDBfOTI...  48.882219  2.331373   \n\n    city country postal_code                  street_name_1  \n0  Paris  France       75009              52, rue Condorcet  \n1  Paris  France       75009          164, av. Ledru-Rollin  \n2  Paris  France       75009           86, rue des Archives  \n3  Paris  France       75009              46, rue Daubenton  \n4  Paris  France       75009                 5, rue d'Arras  \n5  Paris  France       75009               54, rue de Seine  \n6  Paris  France       75009               29, rue Mazarine  \n7  Paris  France       75009              50, rue Condorcet  \n8  Paris  France       75009  64, rue Jean-Baptiste Pigalle  \n9  Paris  France       75009               5, rue de Calais  \n\n[10 rows x 21 columns]",
      "text/html": "<div>\n<style scoped>\n    .dataframe tbody tr th:only-of-type {\n        vertical-align: middle;\n    }\n\n    .dataframe tbody tr th {\n        vertical-align: top;\n    }\n\n    .dataframe thead th {\n        text-align: right;\n    }\n</style>\n<table border=\"1\" class=\"dataframe\">\n  <thead>\n    <tr style=\"text-align: right;\">\n      <th></th>\n      <th>id</th>\n      <th>type</th>\n      <th>name</th>\n      <th>address</th>\n      <th>phone_num</th>\n      <th>cellphone_num</th>\n      <th>cravings</th>\n      <th>extras</th>\n      <th>price</th>\n      <th>essentials</th>\n      <th>...</th>\n      <th>tags</th>\n      <th>sorted_tags</th>\n      <th>website</th>\n      <th>thumbnail</th>\n      <th>lat</th>\n      <th>long</th>\n      <th>city</th>\n      <th>country</th>\n      <th>postal_code</th>\n      <th>street_name_1</th>\n    </tr>\n  </thead>\n  <tbody>\n    <tr>\n      <th>0</th>\n      <td>5db9cca342719ae4a3000240</td>\n      <td>Restaurant</td>\n      <td>Shinjuku Pigalle</td>\n      <td>{'_id': '5db9cca342719ae4a300023f', 'city': 'P...</td>\n      <td>+33 1 42 06 18 14</td>\n      <td></td>\n      <td>Japonais</td>\n      <td>[Antidépresseur, Manger seul ]</td>\n      <td>[De 16 à 35 €]</td>\n      <td>[]</td>\n      <td>...</td>\n      <td>[{'category': 'Les plus', 'type': 'zeplus', 'n...</td>\n      <td>{'zeplus': ['Antidépresseur', 'Manger seul '],...</td>\n      <td></td>\n      <td>/media/W1siZiIsIjIwMTkvMTAvMzAvMTlfMDVfMTVfNjQ...</td>\n      <td>48.880302</td>\n      <td>2.343186</td>\n      <td>Paris</td>\n      <td>France</td>\n      <td>75009</td>\n      <td>52, rue Condorcet</td>\n    </tr>\n    <tr>\n      <th>1</th>\n      <td>5dc3b2a942719a7876000189</td>\n      <td>Restaurant</td>\n      <td>Basique</td>\n      <td>{'_id': '5dc3b2a942719a7876000187', 'city': 'P...</td>\n      <td>+33 1 40 24 20 48</td>\n      <td></td>\n      <td>Tapas</td>\n      <td>[Antidépresseur, Terrasse]</td>\n      <td>[De 16 à 35 €]</td>\n      <td>[]</td>\n      <td>...</td>\n      <td>[{'category': 'Les plus', 'type': 'zeplus', 'n...</td>\n      <td>{'zeplus': ['Antidépresseur', 'Terrasse'], 'pr...</td>\n      <td></td>\n      <td>/media/W1siZiIsIjIwMTkvMTEvMDcvMDZfNTlfMDVfOTk...</td>\n      <td>48.856626</td>\n      <td>2.379403</td>\n      <td>Paris</td>\n      <td>France</td>\n      <td>75009</td>\n      <td>164, av. Ledru-Rollin</td>\n    </tr>\n    <tr>\n      <th>2</th>\n      <td>5c9129b242719a757f000413</td>\n      <td>Restaurant</td>\n      <td>Gramme</td>\n      <td>{'_id': '5c9129b242719a757f000411', 'city': 'P...</td>\n      <td>+33 9 50 92 20 23</td>\n      <td></td>\n      <td>Café / Coffee Shop</td>\n      <td>[Ouvert le dimanche, Ouvert le lundi, Take-awa...</td>\n      <td>[Moins de 15 €]</td>\n      <td>[]</td>\n      <td>...</td>\n      <td>[{'category': 'Les plus', 'type': 'zeplus', 'n...</td>\n      <td>{'zeplus': ['Ouvert le dimanche', 'Ouvert le l...</td>\n      <td></td>\n      <td>/media/W1siZiIsIjIwMTkvMDMvMTkvMThfNDFfMDZfNDU...</td>\n      <td>48.863063</td>\n      <td>2.360760</td>\n      <td>Paris</td>\n      <td>France</td>\n      <td>75009</td>\n      <td>86, rue des Archives</td>\n    </tr>\n    <tr>\n      <th>3</th>\n      <td>5cd999f442719a064f000095</td>\n      <td>Restaurant</td>\n      <td>Chinaski</td>\n      <td>{'_id': '5cd999f442719a064f000093', 'city': 'P...</td>\n      <td>+33 1 73 74 74 06</td>\n      <td></td>\n      <td>Café / Coffee Shop</td>\n      <td>[Ouvert le dimanche, Antidépresseur, Terrasse,...</td>\n      <td>[De 16 à 35 €]</td>\n      <td>[Feeling]</td>\n      <td>...</td>\n      <td>[{'category': 'Les plus', 'type': 'zeplus', 'n...</td>\n      <td>{'zeplus': ['Ouvert le dimanche', 'Antidépress...</td>\n      <td>www.chinaskiparis.com</td>\n      <td>/media/W1siZiIsIjIwMTkvMDUvMTMvMThfMjNfMTZfNzM...</td>\n      <td>48.840358</td>\n      <td>2.350236</td>\n      <td>Paris</td>\n      <td>France</td>\n      <td>75009</td>\n      <td>46, rue Daubenton</td>\n    </tr>\n    <tr>\n      <th>4</th>\n      <td>5cd3049742719a93b40000e0</td>\n      <td>Restaurant</td>\n      <td>Sucrépice</td>\n      <td>{'_id': '5cd3049742719a93b40000de', 'city': 'P...</td>\n      <td>+33 1 72 67 11 74</td>\n      <td></td>\n      <td>Chinois</td>\n      <td>[Ouvert le dimanche, Ouvert le lundi, Take-awa...</td>\n      <td>[Moins de 15 €]</td>\n      <td>[]</td>\n      <td>...</td>\n      <td>[{'category': 'Les plus', 'type': 'zeplus', 'n...</td>\n      <td>{'zeplus': ['Ouvert le dimanche', 'Ouvert le l...</td>\n      <td>www.sucrepice.fr</td>\n      <td>/media/W1siZiIsIjIwMTkvMDUvMDgvMThfMzJfMjNfODY...</td>\n      <td>48.847367</td>\n      <td>2.351738</td>\n      <td>Paris</td>\n      <td>France</td>\n      <td>75009</td>\n      <td>5, rue d'Arras</td>\n    </tr>\n    <tr>\n      <th>5</th>\n      <td>5a26b1e342719a13ff000019</td>\n      <td>Restaurant</td>\n      <td>Così</td>\n      <td>{'_id': '5845940b42719a90f9000007', 'city': 'P...</td>\n      <td>+33 1 46 33 35 36</td>\n      <td></td>\n      <td>Sandwichs / Bagels</td>\n      <td>[Ouvert le dimanche, Ouvert le lundi, Antidépr...</td>\n      <td>[Moins de 15 €]</td>\n      <td>[Feeling]</td>\n      <td>...</td>\n      <td>[{'category': 'Les plus', 'type': 'zeplus', 'n...</td>\n      <td>{'zeplus': ['Ouvert le dimanche', 'Ouvert le l...</td>\n      <td></td>\n      <td>/media/W1siZiIsIjIwMTYvMDYvMDIvMTBfNTBfNDhfNTc...</td>\n      <td>48.854086</td>\n      <td>2.336874</td>\n      <td>Paris</td>\n      <td>France</td>\n      <td>75009</td>\n      <td>54, rue de Seine</td>\n    </tr>\n    <tr>\n      <th>6</th>\n      <td>5a26a5b142719aee3b000007</td>\n      <td>Restaurant</td>\n      <td>Kodawari Yokocho</td>\n      <td>{'_id': '584580d542719ae1dd00002f', 'city': 'P...</td>\n      <td>+ 33 9 70 91 12 41</td>\n      <td></td>\n      <td>Japonais</td>\n      <td>[Ouvert le dimanche, Antidépresseur]</td>\n      <td>[De 16 à 35 €]</td>\n      <td>[]</td>\n      <td>...</td>\n      <td>[{'category': 'Les plus', 'type': 'zeplus', 'n...</td>\n      <td>{'zeplus': ['Ouvert le dimanche', 'Antidépress...</td>\n      <td>kodawari-ramen.com</td>\n      <td></td>\n      <td>48.854658</td>\n      <td>2.338127</td>\n      <td>Paris</td>\n      <td>France</td>\n      <td>75009</td>\n      <td>29, rue Mazarine</td>\n    </tr>\n    <tr>\n      <th>7</th>\n      <td>5d64150142719a5c10000015</td>\n      <td>Restaurant</td>\n      <td>Cuisine</td>\n      <td>{'_id': '5d64150042719a5c10000013', 'city': 'P...</td>\n      <td>+33 1 44 63 75 64</td>\n      <td></td>\n      <td>Néobistrot</td>\n      <td>[Ouvert le lundi, Terrasse]</td>\n      <td>[De 16 à 35 €]</td>\n      <td>[Feeling]</td>\n      <td>...</td>\n      <td>[{'category': 'Les plus', 'type': 'zeplus', 'n...</td>\n      <td>{'zeplus': ['Ouvert le lundi', 'Terrasse'], 'e...</td>\n      <td>www.restaurantcuisine.fr</td>\n      <td>/media/W1siZiIsIjIwMTkvMDgvMjYvMTlfMjFfMDVfMjl...</td>\n      <td>48.880488</td>\n      <td>2.343315</td>\n      <td>Paris</td>\n      <td>France</td>\n      <td>75009</td>\n      <td>50, rue Condorcet</td>\n    </tr>\n    <tr>\n      <th>8</th>\n      <td>5d7b4d7942719a3c640000fb</td>\n      <td>Restaurant</td>\n      <td>Dumbo</td>\n      <td>{'_id': '5d7b4d7942719a3c640000f9', 'city': 'P...</td>\n      <td>Pas de téléphone.</td>\n      <td></td>\n      <td>Burgers</td>\n      <td>[Take-away, Antidépresseur, Manger seul ]</td>\n      <td>[Moins de 15 €]</td>\n      <td>[]</td>\n      <td>...</td>\n      <td>[{'category': 'Les plus', 'type': 'zeplus', 'n...</td>\n      <td>{'zeplus': ['Take-away', 'Antidépresseur', 'Ma...</td>\n      <td></td>\n      <td>/media/W1siZiIsIjIwMTkvMDkvMTMvMTBfMDRfMDlfNjU...</td>\n      <td>48.881654</td>\n      <td>2.336959</td>\n      <td>Paris</td>\n      <td>France</td>\n      <td>75009</td>\n      <td>64, rue Jean-Baptiste Pigalle</td>\n    </tr>\n    <tr>\n      <th>9</th>\n      <td>5c1a922842719aac5500015e</td>\n      <td>Restaurant</td>\n      <td>Vermillon</td>\n      <td>{'_id': '5c1a922842719aac5500015c', 'city': 'P...</td>\n      <td>+ 33 1 42 41 49 68</td>\n      <td></td>\n      <td>Cuisine du marché</td>\n      <td>[Antidépresseur, Terrasse]</td>\n      <td>[De 16 à 35 €]</td>\n      <td>[Feeling]</td>\n      <td>...</td>\n      <td>[{'category': 'Les plus', 'type': 'zeplus', 'n...</td>\n      <td>{'zeplus': ['Antidépresseur', 'Terrasse'], 'es...</td>\n      <td></td>\n      <td>/media/W1siZiIsIjIwMTgvMTIvMjAvMTBfMjJfNDBfOTI...</td>\n      <td>48.882219</td>\n      <td>2.331373</td>\n      <td>Paris</td>\n      <td>France</td>\n      <td>75009</td>\n      <td>5, rue de Calais</td>\n    </tr>\n  </tbody>\n</table>\n<p>10 rows × 21 columns</p>\n</div>"
     },
     "metadata": {},
     "execution_count": 72
    }
   ],
   "source": [
    "dataframe"
   ]
  },
  {
   "cell_type": "code",
   "execution_count": 73,
   "metadata": {
    "tags": []
   },
   "outputs": [
    {
     "output_type": "stream",
     "name": "stdout",
     "text": "Entrez la ville ou vous souhaitez manger:\n"
    },
    {
     "output_type": "display_data",
     "data": {
      "text/plain": "Dropdown(description='Entrez le type de cuisine que vous souhaitez manger:', options=('Japonais', 'Tapas', 'Ca…",
      "application/vnd.jupyter.widget-view+json": {
       "version_major": 2,
       "version_minor": 0,
       "model_id": "10801563330a4b779825f48048a7162f"
      }
     },
     "metadata": {}
    }
   ],
   "source": [
    "#input ville filtrée\n",
    "print('Entrez la ville ou vous souhaitez manger:')\n",
    "city = input()\n",
    "\n",
    "#liste déroulante\n",
    "import ipywidgets as widgets\n",
    "\n",
    "def function(option):\n",
    "    print(option)\n",
    "\n",
    "w = widgets.Dropdown(\n",
    "    options=listDataframe,\n",
    "    description='Entrez le type de cuisine que vous souhaitez manger:',\n",
    "    disabled=False\n",
    ")\n",
    "\n",
    "w.observe(\n",
    "    lambda c: plot_content(c['new']) if (c['type'] == 'change' and c['name'] == 'value') else None\n",
    ")\n",
    "\n",
    "display(w)"
   ]
  },
  {
   "cell_type": "code",
   "execution_count": 84,
   "metadata": {},
   "outputs": [],
   "source": [
    "results = dataframe[(dataframe[\"city\"].str.contains(city) & dataframe[\"cravings\"].str.contains(w.value))]"
   ]
  },
  {
   "cell_type": "code",
   "execution_count": 85,
   "metadata": {},
   "outputs": [
    {
     "output_type": "execute_result",
     "data": {
      "text/plain": "                         id        type      name  \\\n2  5c9129b242719a757f000413  Restaurant    Gramme   \n3  5cd999f442719a064f000095  Restaurant  Chinaski   \n\n                                             address          phone_num  \\\n2  {'_id': '5c9129b242719a757f000411', 'city': 'P...  +33 9 50 92 20 23   \n3  {'_id': '5cd999f442719a064f000093', 'city': 'P...  +33 1 73 74 74 06   \n\n  cellphone_num            cravings  \\\n2                Café / Coffee Shop   \n3                Café / Coffee Shop   \n\n                                              extras            price  \\\n2  [Ouvert le dimanche, Ouvert le lundi, Take-awa...  [Moins de 15 €]   \n3  [Ouvert le dimanche, Antidépresseur, Terrasse,...   [De 16 à 35 €]   \n\n  essentials  ...                                               tags  \\\n2         []  ...  [{'category': 'Les plus', 'type': 'zeplus', 'n...   \n3  [Feeling]  ...  [{'category': 'Les plus', 'type': 'zeplus', 'n...   \n\n                                         sorted_tags                website  \\\n2  {'zeplus': ['Ouvert le dimanche', 'Ouvert le l...                          \n3  {'zeplus': ['Ouvert le dimanche', 'Antidépress...  www.chinaskiparis.com   \n\n                                           thumbnail        lat      long  \\\n2  /media/W1siZiIsIjIwMTkvMDMvMTkvMThfNDFfMDZfNDU...  48.863063  2.360760   \n3  /media/W1siZiIsIjIwMTkvMDUvMTMvMThfMjNfMTZfNzM...  48.840358  2.350236   \n\n    city country postal_code         street_name_1  \n2  Paris  France       75009  86, rue des Archives  \n3  Paris  France       75009     46, rue Daubenton  \n\n[2 rows x 21 columns]",
      "text/html": "<div>\n<style scoped>\n    .dataframe tbody tr th:only-of-type {\n        vertical-align: middle;\n    }\n\n    .dataframe tbody tr th {\n        vertical-align: top;\n    }\n\n    .dataframe thead th {\n        text-align: right;\n    }\n</style>\n<table border=\"1\" class=\"dataframe\">\n  <thead>\n    <tr style=\"text-align: right;\">\n      <th></th>\n      <th>id</th>\n      <th>type</th>\n      <th>name</th>\n      <th>address</th>\n      <th>phone_num</th>\n      <th>cellphone_num</th>\n      <th>cravings</th>\n      <th>extras</th>\n      <th>price</th>\n      <th>essentials</th>\n      <th>...</th>\n      <th>tags</th>\n      <th>sorted_tags</th>\n      <th>website</th>\n      <th>thumbnail</th>\n      <th>lat</th>\n      <th>long</th>\n      <th>city</th>\n      <th>country</th>\n      <th>postal_code</th>\n      <th>street_name_1</th>\n    </tr>\n  </thead>\n  <tbody>\n    <tr>\n      <th>2</th>\n      <td>5c9129b242719a757f000413</td>\n      <td>Restaurant</td>\n      <td>Gramme</td>\n      <td>{'_id': '5c9129b242719a757f000411', 'city': 'P...</td>\n      <td>+33 9 50 92 20 23</td>\n      <td></td>\n      <td>Café / Coffee Shop</td>\n      <td>[Ouvert le dimanche, Ouvert le lundi, Take-awa...</td>\n      <td>[Moins de 15 €]</td>\n      <td>[]</td>\n      <td>...</td>\n      <td>[{'category': 'Les plus', 'type': 'zeplus', 'n...</td>\n      <td>{'zeplus': ['Ouvert le dimanche', 'Ouvert le l...</td>\n      <td></td>\n      <td>/media/W1siZiIsIjIwMTkvMDMvMTkvMThfNDFfMDZfNDU...</td>\n      <td>48.863063</td>\n      <td>2.360760</td>\n      <td>Paris</td>\n      <td>France</td>\n      <td>75009</td>\n      <td>86, rue des Archives</td>\n    </tr>\n    <tr>\n      <th>3</th>\n      <td>5cd999f442719a064f000095</td>\n      <td>Restaurant</td>\n      <td>Chinaski</td>\n      <td>{'_id': '5cd999f442719a064f000093', 'city': 'P...</td>\n      <td>+33 1 73 74 74 06</td>\n      <td></td>\n      <td>Café / Coffee Shop</td>\n      <td>[Ouvert le dimanche, Antidépresseur, Terrasse,...</td>\n      <td>[De 16 à 35 €]</td>\n      <td>[Feeling]</td>\n      <td>...</td>\n      <td>[{'category': 'Les plus', 'type': 'zeplus', 'n...</td>\n      <td>{'zeplus': ['Ouvert le dimanche', 'Antidépress...</td>\n      <td>www.chinaskiparis.com</td>\n      <td>/media/W1siZiIsIjIwMTkvMDUvMTMvMThfMjNfMTZfNzM...</td>\n      <td>48.840358</td>\n      <td>2.350236</td>\n      <td>Paris</td>\n      <td>France</td>\n      <td>75009</td>\n      <td>46, rue Daubenton</td>\n    </tr>\n  </tbody>\n</table>\n<p>2 rows × 21 columns</p>\n</div>"
     },
     "metadata": {},
     "execution_count": 85
    }
   ],
   "source": [
    "results"
   ]
  },
  {
   "cell_type": "code",
   "execution_count": 87,
   "metadata": {
    "tags": []
   },
   "outputs": [],
   "source": [
    "import folium\n",
    "\n",
    "m = folium.Map(\n",
    "    location=[48.880302\t, 2.343186],\n",
    "    zoom_start=12,\n",
    "    tiles='Stamen Terrain'\n",
    ")\n",
    "\n",
    "tooltip = 'Infos Restaurant '\n",
    "for i in results.index:\n",
    "    lat = results[\"lat\"].loc[i] \n",
    "    long = results[\"long\"].loc[i]\n",
    "    city = results[\"city\"].loc[i]\n",
    "    name = results[\"name\"].loc[i]\n",
    "    folium.Marker([lat,long], popup='<i>%s <br> %s</i>' % (city, name), tooltip=tooltip).add_to(m)"
   ]
  },
  {
   "cell_type": "code",
   "execution_count": 88,
   "metadata": {},
   "outputs": [
    {
     "output_type": "execute_result",
     "data": {
      "text/plain": "<folium.folium.Map at 0x7fc5b8495400>",
      "text/html": "<div style=\"width:100%;\"><div style=\"position:relative;width:100%;height:0;padding-bottom:60%;\"><span style=\"color:#565656\">Make this Notebook Trusted to load map: File -> Trust Notebook</span><iframe src=\"about:blank\" style=\"position:absolute;width:100%;height:100%;left:0;top:0;border:none !important;\" data-html=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 onload=\"this.contentDocument.open();this.contentDocument.write(atob(this.getAttribute('data-html')));this.contentDocument.close();\" allowfullscreen webkitallowfullscreen mozallowfullscreen></iframe></div></div>"
     },
     "metadata": {},
     "execution_count": 88
    }
   ],
   "source": [
    "m"
   ]
  },
  {
   "cell_type": "markdown",
   "metadata": {},
   "source": [
    "#Définitions\n",
    "-probabilité : évaluation du caractère probable d'un évenement, valeur certifiant son dégré de certitude <br>\n",
    "-moyenne : quotient de la somme de plusieurs valeurs par leur nombre <br>\n",
    "- médiane :  Séparation de l'ensemble des valeursen deux parties égales, la médiane est le point milieu de l'ensemble <br>\n",
    "-espérance : valeur que l'on s'attend à trouver en moyenne  <br>\n",
    "-Variance : mesure de dispersion des valeurs d'un echantillon <br>\n",
    "-écart-type : mesure de dispersion des valeurs d'un echantillon <br>\n",
    "-quantile : valeurs divisant un jeu de données en intervalles à partir d'un jeu de données <br>\n",
    "-distribution : tableau qui associe des classes de valeurs obtenues lors d'une expérience à leurs fréquences d'apparition <br>\n"
   ]
  }
 ]
}